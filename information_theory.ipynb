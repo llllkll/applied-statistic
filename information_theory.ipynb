{
  "cells": [
    {
      "cell_type": "markdown",
      "metadata": {
        "id": "xpO92YkQ-9SB"
      },
      "source": [
        "# Теория информации"
      ]
    },
    {
      "cell_type": "code",
      "execution_count": null,
      "metadata": {
        "id": "9BNrmA7YpAF_"
      },
      "outputs": [],
      "source": [
        "#all imports here please\n",
        "import pickle as pkl\n",
        "\n",
        "from collections import OrderedDict, Counter\n",
        "import heapq\n",
        "import math\n",
        "\n",
        "import numpy as np\n",
        "import matplotlib.pyplot as plt\n",
        "%matplotlib inline\n",
        "#... add your own if necessary"
      ]
    },
    {
      "cell_type": "markdown",
      "metadata": {
        "id": "UDtUAHWKpAGA"
      },
      "source": [
        "Энтропию можно использовать не только для описания хаотичности, беспорядочности и уровня неопределённости, но и для того, чтобы исследовать зависимость между случайными величинами, используя теорию информации."
      ]
    },
    {
      "cell_type": "markdown",
      "metadata": {
        "id": "upVipnxxpAGD"
      },
      "source": [
        "## Строим свой код, основанный на частотах\n",
        "\n",
        "Представим себе для примера достаточно большую книгу (например, Войну и Мир Льва Николаевича Толстого). Для того, чтобы записывать буквы в кодировке UTF-8 требуется от 2 до 4 байт (каждый 8бит). Но книга -- это не просто какой-то iid равновероятный поток символов, а структурированный текст, структуру которого можно по-разному использовать. К примеру, мы можем задуматься над тем, чтобы сжать её, используя информацию о том, какие символы встречаются чаще: ведь более частые можно кодировать более короткими кодовыми словами, а более редкие -- более длинными.\n",
        "\n",
        "В этом идея [кода Хаффмана](https://compression.ru/download/articles/huff/huffman_1952_minimum-redundancy-codes.pdf), который мы попробуем поисследовать в самой простой наивной имплементации."
      ]
    },
    {
      "cell_type": "markdown",
      "metadata": {
        "id": "0hbA4i01pAGE"
      },
      "source": [
        "### Вычисляем языковую статистику\n",
        "\n",
        "Возьмём для примера текст вики-страницы [МО1](http://wiki.cs.hse.ru/%D0%9C%D0%B0%D1%88%D0%B8%D0%BD%D0%BD%D0%BE%D0%B5_%D0%BE%D0%B1%D1%83%D1%87%D0%B5%D0%BD%D0%B8%D0%B5_1)"
      ]
    },
    {
      "cell_type": "code",
      "execution_count": null,
      "metadata": {
        "id": "Th3vbMpspAGE",
        "colab": {
          "base_uri": "https://localhost:8080/"
        },
        "outputId": "f6c2967c-7675-4468-91a3-b17a4a3600a3"
      },
      "outputs": [
        {
          "output_type": "stream",
          "name": "stdout",
          "text": [
            "== О курсе ==\n",
            "\n",
            "\n",
            "\n",
            "[[Файл:ML_surfaces.png|280px|borderless|left]]\n",
            "\n",
            "\n",
            "\n",
            "Курс читается для студентов 3-го курса [https://cs.hse.ru/ami ПМИ ФКН ВШЭ] в 1-2 модулях.\n",
            "\n",
            "\n",
            "\n",
            "Проводится с 2016 го\n"
          ]
        }
      ],
      "source": [
        "with open(\"moText.txt\",\"r\", encoding=\"utf-8\") as f:\n",
        "    MOText = \"\\n\".join(f.readlines())\n",
        "\n",
        "print(MOText[:180])"
      ]
    },
    {
      "cell_type": "markdown",
      "metadata": {
        "id": "a99eqllLpAGE"
      },
      "source": [
        "Это не сильно большой, но не очень маленький текст."
      ]
    },
    {
      "cell_type": "code",
      "execution_count": null,
      "metadata": {
        "id": "DdOB8-87pAGE",
        "colab": {
          "base_uri": "https://localhost:8080/"
        },
        "outputId": "f620aa6d-8d45-4bc9-8e55-1a22704ceae0"
      },
      "outputs": [
        {
          "output_type": "stream",
          "name": "stdout",
          "text": [
            "10001\n"
          ]
        }
      ],
      "source": [
        "print(len(MOText))"
      ]
    },
    {
      "cell_type": "markdown",
      "metadata": {
        "id": "PenJyYpcpAGE"
      },
      "source": [
        "Вычислите частоту каждого символа, сохранив их в упорядоченный словарь (OrderedDict, пригодится для сортировок)  вида {<символ>: <частота>}."
      ]
    },
    {
      "cell_type": "code",
      "source": [
        "def compute_frequencies(text):\n",
        "    freqs = dict()\n",
        "    for char in text:\n",
        "        if char not in freqs:\n",
        "            freqs[char] = 1;\n",
        "        else:\n",
        "            freqs[char] += 1\n",
        "    total = sum(freqs.values())\n",
        "    return OrderedDict((char, count / total) for char, count in freqs.items())"
      ],
      "metadata": {
        "id": "FA9o8ZH45vLT"
      },
      "execution_count": null,
      "outputs": []
    },
    {
      "cell_type": "code",
      "execution_count": null,
      "metadata": {
        "id": "-mxLxfEdpAGE"
      },
      "outputs": [],
      "source": [
        "#compute OrderedDict\n",
        "symFreqs = compute_frequencies(MOText)"
      ]
    },
    {
      "cell_type": "code",
      "execution_count": null,
      "metadata": {
        "id": "hEltDu63pAGF",
        "colab": {
          "base_uri": "https://localhost:8080/"
        },
        "outputId": "721ccd2f-8501-4f54-a5f8-5eacacfa7ed5"
      },
      "outputs": [
        {
          "output_type": "stream",
          "name": "stdout",
          "text": [
            "=: 0.008899110088991101\n",
            " : 0.09119088091190881\n",
            "О: 0.0012998700129987\n",
            "к: 0.013398660133986601\n",
            "у: 0.0098990100989901\n",
            "р: 0.0184981501849815\n",
            "с: 0.017998200179982\n",
            "е: 0.038896110388961104\n",
            "\n",
            ": 0.0524947505249475\n",
            "[: 0.008099190080991902\n",
            "Ф: 0.0005999400059994001\n",
            "а: 0.0377962203779622\n",
            "й: 0.006299370062993701\n",
            "л: 0.015898410158984102\n",
            ":: 0.009599040095990401\n",
            "M: 0.0026997300269973002\n",
            "L: 0.0012998700129987\n",
            "_: 0.0051994800519948\n",
            "s: 0.019698030196980302\n",
            "u: 0.0058994100589941\n",
            "r: 0.0124987501249875\n",
            "f: 0.0023997600239976003\n",
            "a: 0.014498550144985502\n",
            "c: 0.0066993300669933005\n",
            "e: 0.0216978302169783\n",
            ".: 0.016298370162983702\n",
            "p: 0.011398860113988602\n",
            "n: 0.010498950104989501\n",
            "g: 0.004399560043995601\n",
            "|: 0.0184981501849815\n",
            "2: 0.013998600139986002\n",
            "8: 0.0008999100089991\n",
            "0: 0.007699230076992301\n",
            "x: 0.0012998700129987\n",
            "b: 0.0029997000299970002\n",
            "o: 0.013998600139986002\n",
            "d: 0.0045995400459954\n",
            "l: 0.0086991300869913\n",
            "t: 0.030496950304969503\n",
            "]: 0.008099190080991902\n",
            "К: 0.0040995900409959\n",
            "ч: 0.008899110088991101\n",
            "и: 0.0342965703429657\n",
            "т: 0.0174982501749825\n",
            "я: 0.006999300069993001\n",
            "д: 0.014298570142985701\n",
            "н: 0.034996500349965\n",
            "о: 0.036896310368963105\n",
            "в: 0.015498450154984501\n",
            "3: 0.0015998400159984002\n",
            "-: 0.007099290070992901\n",
            "г: 0.0053994600539946005\n",
            "h: 0.014698530146985302\n",
            "/: 0.028097190280971903\n",
            "m: 0.0124987501249875\n",
            "i: 0.013398660133986601\n",
            "П: 0.005699430056994301\n",
            "М: 0.0052994700529947\n",
            "И: 0.0037996200379962005\n",
            "Н: 0.0014998500149985001\n",
            "В: 0.0025997400259974\n",
            "Ш: 0.0005999400059994001\n",
            "Э: 0.0011998800119988001\n",
            "1: 0.006399360063993601\n",
            "м: 0.0105989401059894\n",
            "х: 0.0017998200179982\n",
            "6: 0.0014998500149985001\n",
            "': 0.0023997600239976003\n",
            "Л: 0.00039996000399960006\n",
            "w: 0.004299570042995701\n",
            "k: 0.0047995200479952005\n",
            "v: 0.0029997000299970002\n",
            "С: 0.0031996800319968005\n",
            "Е: 0.0005999400059994001\n",
            "А: 0.0037996200379962005\n",
            "з: 0.0058994100589941\n",
            "ы: 0.006999300069993001\n",
            "4: 0.0013998600139986002\n",
            "5: 0.0015998400159984002\n",
            "п: 0.0084991500849915\n",
            "Р: 0.0016998300169983002\n",
            "G: 0.0008999100089991\n",
            "H: 0.0010998900109989002\n",
            "y: 0.0034996500349965005\n",
            "S: 0.0012998700129987\n",
            "X: 0.0004999500049995\n",
            "7: 0.0012998700129987\n",
            "F: 0.000999900009999\n",
            "Q: 0.00019998000199980003\n",
            "U: 0.0006999300069993001\n",
            "q: 0.0006999300069993001\n",
            "P: 0.001999800019998\n",
            "A: 0.0011998800119988001\n",
            "ц: 0.0028997100289971\n",
            "э: 0.0006999300069993001\n",
            "?: 0.0004999500049995\n",
            "O: 0.00029997000299970003\n",
            "B: 0.0004999500049995\n",
            "E: 0.0007999200079992001\n",
            "R: 0.0011998800119988001\n",
            "C: 0.0015998400159984002\n",
            "9: 0.0015998400159984002\n",
            "&: 9.999000099990002e-05\n",
            "z: 0.0006999300069993001\n",
            "T: 0.0016998300169983002\n",
            "D: 0.0008999100089991\n",
            "W: 0.0008999100089991\n",
            "V: 0.0007999200079992001\n",
            "J: 0.0006999300069993001\n",
            "ш: 0.0034996500349965005\n",
            "(: 0.0012998700129987\n",
            "ю: 0.0015998400159984002\n",
            ",: 0.0032996700329967\n",
            "б: 0.0057994200579942\n",
            "): 0.0012998700129987\n",
            "+: 0.0017998200179982\n",
            "<: 0.00019998000199980003\n",
            ">: 9.999000099990002e-05\n",
            "@: 0.00029997000299970003\n",
            "ъ: 9.999000099990002e-05\n",
            "Ч: 9.999000099990002e-05\n",
            "ж: 0.0018998100189981002\n",
            "Z: 0.000999900009999\n",
            "щ: 0.0007999200079992001\n",
            "ё: 0.0004999500049995\n",
            "Т: 0.0008999100089991\n",
            "I: 0.0006999300069993001\n",
            "N: 0.0014998500149985001\n",
            "ь: 0.004299570042995701\n",
            "ф: 0.0011998800119988001\n",
            "{: 0.00019998000199980003\n",
            "\": 0.00039996000399960006\n",
            "!: 0.0010998900109989002\n",
            "Г: 0.00019998000199980003\n",
            "Б: 0.0028997100289971\n",
            "Y: 0.0004999500049995\n",
            "Д: 0.0031996800319968005\n",
            "K: 0.0005999400059994001\n",
            "j: 9.999000099990002e-05\n",
            "У: 0.0004999500049995\n",
            "Я: 0.00029997000299970003\n",
            "}: 0.00019998000199980003\n",
            "З: 0.0010998900109989002\n",
            "Ю: 9.999000099990002e-05\n",
            "*: 0.0020997900209979003\n",
            "—: 0.00039996000399960006\n",
            "Ж: 9.999000099990002e-05\n",
            "%: 0.00029997000299970003\n",
            "In total 148 unique symbols, max freq= 0.09119088091190881\n"
          ]
        }
      ],
      "source": [
        "for key,val in symFreqs.items():\n",
        "    print(f\"{key}: {val}\")\n",
        "print(f\"In total {len(symFreqs)} unique symbols, max freq= {max([val for val in symFreqs.values()])}\")"
      ]
    },
    {
      "cell_type": "markdown",
      "metadata": {
        "id": "GSBPTQgopAGF"
      },
      "source": [
        "### Строим Кодер и Декодер Хаффмана"
      ]
    },
    {
      "cell_type": "code",
      "execution_count": null,
      "metadata": {
        "id": "mBiu2NQ6pAGF",
        "colab": {
          "base_uri": "https://localhost:8080/"
        },
        "outputId": "ab39ab1c-d91b-4d58-baf4-7261d4f62a55"
      },
      "outputs": [
        {
          "output_type": "stream",
          "name": "stdout",
          "text": [
            "Character: f, Code: 0\n",
            "Character: a, Code: 1000\n",
            "Character: b, Code: 1001\n",
            "Character: c, Code: 101\n",
            "Character: d, Code: 110\n",
            "Character: e, Code: 111\n"
          ]
        }
      ],
      "source": [
        "#taken from https://www.geeksforgeeks.org/huffman-coding-in-python/\n",
        "class Node:\n",
        "    def __init__(self, symbol=None, frequency=None):\n",
        "        #print(\"CREATING\", symbol, frequency)\n",
        "        self.symbol = symbol\n",
        "        self.frequency = frequency\n",
        "        self.left = None\n",
        "        self.right = None\n",
        "\n",
        "    def __lt__(self, other):\n",
        "        return self.frequency < other.frequency\n",
        "\n",
        "def build_huffman_tree(chars, freq):\n",
        "\n",
        "    # Create a priority queue of nodes\n",
        "    priority_queue = [Node(char, f) for char, f in zip(chars, freq)]\n",
        "    heapq.heapify(priority_queue)\n",
        "\n",
        "    # Build the Huffman tree\n",
        "    while len(priority_queue) > 1:\n",
        "        left_child = heapq.heappop(priority_queue)\n",
        "        right_child = heapq.heappop(priority_queue)\n",
        "        merged_node = Node(frequency=left_child.frequency + right_child.frequency)\n",
        "        merged_node.left = left_child\n",
        "        merged_node.right = right_child\n",
        "        heapq.heappush(priority_queue, merged_node)\n",
        "\n",
        "    return priority_queue[0]\n",
        "\n",
        "def generate_huffman_codes(node, code=\"\", huffman_codes={}):\n",
        "    if node is not None:\n",
        "        if node.symbol is not None:\n",
        "            huffman_codes[node.symbol] = code\n",
        "        else:\n",
        "            generate_huffman_codes(node.left, code + \"0\", huffman_codes)\n",
        "            generate_huffman_codes(node.right, code + \"1\", huffman_codes)\n",
        "\n",
        "    return huffman_codes\n",
        "\n",
        "def runTest():\n",
        "    # Given example (try it to test)\n",
        "    chars = ['a', 'b', 'c', 'd', 'e', 'f']\n",
        "    freq = [4, 7, 15, 17, 22, 42]\n",
        "\n",
        "    # Build the Huffman tree\n",
        "    root = build_huffman_tree(chars, freq)\n",
        "\n",
        "    # Generate Huffman codes\n",
        "    huffman_codes = generate_huffman_codes(root)\n",
        "\n",
        "    # Print Huffman codes\n",
        "    for char, code in huffman_codes.items():\n",
        "        print(f\"Character: {char}, Code: {code}\")\n",
        "\n",
        "runTest()"
      ]
    },
    {
      "cell_type": "code",
      "execution_count": null,
      "metadata": {
        "id": "5vSWWnwVpAGG"
      },
      "outputs": [],
      "source": [
        "class HuffmanCoderDecoder:\n",
        "\n",
        "    def __init__(self,symbolProbaTable):\n",
        "        \"\"\"_summary_\n",
        "\n",
        "        Args:\n",
        "            symbolProbaTable (dict): a dict with symbol(keys) and probabilities (val)\n",
        "        \"\"\"\n",
        "        self.symbols = list(symbolProbaTable.keys())\n",
        "        self.probas = list(symbolProbaTable.values())\n",
        "        self.symbolProbaTable = symbolProbaTable\n",
        "        self.root = None\n",
        "        self.fit()\n",
        "\n",
        "    def fit(self):\n",
        "        \"\"\"\n",
        "        Sets up encoder and decoder tables\n",
        "        \"\"\"\n",
        "        self.root = build_huffman_tree(self.symbols, self.probas)\n",
        "        self.encoderTable = generate_huffman_codes(self.root, code=\"\", huffman_codes={})\n",
        "        self.decoderTable = {code: symbol for symbol, code in self.encoderTable.items()}\n",
        "\n",
        "    def encode(self, text):\n",
        "        \"\"\"Encodes the text and returns encoded text\n",
        "\n",
        "        Args:\n",
        "            text (str): text to encode\n",
        "        Returns:\n",
        "            encodedText (str): encoded text\n",
        "        \"\"\"\n",
        "        encodedText = ''.join(self.encoderTable[char] for char in text if char in self.encoderTable)\n",
        "        return encodedText\n",
        "\n",
        "    def decode(self, text):\n",
        "        \"\"\"Decodes the encoded text and returns decoded text\n",
        "\n",
        "        Args:\n",
        "            text (str): text to decode\n",
        "        Returns:\n",
        "            decodedText (str): decoded text\n",
        "        \"\"\"\n",
        "        decodedText = \"\"\n",
        "        current = \"\"\n",
        "        for bit in text:\n",
        "            current += bit\n",
        "            if current in self.decoderTable:\n",
        "                decodedText += self.decoderTable[current]\n",
        "                current = \"\"\n",
        "\n",
        "        return decodedText"
      ]
    },
    {
      "cell_type": "code",
      "execution_count": null,
      "metadata": {
        "id": "8LgT5FFQpAGG"
      },
      "outputs": [],
      "source": [
        "textSample = MOText[:200]\n",
        "\n",
        "#Create coder\n",
        "huff = HuffmanCoderDecoder(symFreqs)\n",
        "#Encode text\n",
        "encText = huff.encode(textSample)\n",
        "#decode text to check if it works\n",
        "decText = huff.decode(encText)"
      ]
    },
    {
      "cell_type": "code",
      "execution_count": null,
      "metadata": {
        "id": "84M4aHx6pAGG",
        "colab": {
          "base_uri": "https://localhost:8080/"
        },
        "outputId": "ddbcef79-69c0-438a-9b27-cc1a8951501a"
      },
      "outputs": [
        {
          "output_type": "stream",
          "name": "stdout",
          "text": [
            "1011100101110000011101110100000011111101111110011101111111000001011100101110001000100010001001001100100110011011010000110100011000100011110111011101111111111010001110110111101000100000010101101101010111010101010111101111010100101111111011110001011011011001001101001101111010111111111111011101100111100100010011001011100101011011000111101001010101101011110111101011101011001010110101111011101101011000010010011001001010001000100010010011010110111111001110111100010111011010010110011010111001011001011110101101000011100100011010110100010111110110011011110111001110010101101100110001000100000011011100110110111110011100000000111111011111100111011111101000010011000111101000010000111111011101011011100110001100010101011101010010101111011101011110110010100101000100000110001110100101101010000011111011111110000111110100011011010000100110100010010000001110111001011011110110110111111001001000100010000001100101101100110100001111001110000111001101111100011010110101101110010010101000100010001001111101111001111000100010110000111001010010110010111101011010001011110000110100111111001100100100111000011111001110000111001101010010101000100010001001101100111101100111101100110011100110011100001111101100110001100111101110110110011110110011110110011\n"
          ]
        }
      ],
      "source": [
        "print(encText)"
      ]
    },
    {
      "cell_type": "code",
      "execution_count": null,
      "metadata": {
        "id": "oExzBU2vpAGH",
        "colab": {
          "base_uri": "https://localhost:8080/"
        },
        "outputId": "220fbda6-d1bb-4eca-a57c-5dec95be0816"
      },
      "outputs": [
        {
          "output_type": "stream",
          "name": "stdout",
          "text": [
            "== О курсе ==\n",
            "\n",
            "\n",
            "\n",
            "[[Файл:ML_surfaces.png|280px|borderless|left]]\n",
            "\n",
            "\n",
            "\n",
            "Курс читается для студентов 3-го курса [https://cs.hse.ru/ami ПМИ ФКН ВШЭ] в 1-2 модулях.\n",
            "\n",
            "\n",
            "\n",
            "Проводится с 2016 года.\n",
            "\n",
            "\n",
            "\n",
            "'''Лектор:'''\n"
          ]
        }
      ],
      "source": [
        "print(decText)"
      ]
    },
    {
      "cell_type": "code",
      "execution_count": null,
      "metadata": {
        "id": "hVx8vDRGpAGH",
        "colab": {
          "base_uri": "https://localhost:8080/"
        },
        "outputId": "bf59f89a-ab73-4356-8cb6-8bd378d1cd23"
      },
      "outputs": [
        {
          "output_type": "stream",
          "name": "stdout",
          "text": [
            "== О курсе ==\n",
            "\n",
            "\n",
            "\n",
            "[[Файл:ML_surfaces.png|280px|borderless|left]]\n",
            "\n",
            "\n",
            "\n",
            "Курс читается для студентов 3-го курса [https://cs.hse.ru/ami ПМИ ФКН ВШЭ] в 1-2 модулях.\n",
            "\n",
            "\n",
            "\n",
            "Проводится с 2016 года.\n",
            "\n",
            "\n",
            "\n",
            "'''Лектор:'''\n"
          ]
        }
      ],
      "source": [
        "print(textSample)"
      ]
    },
    {
      "cell_type": "markdown",
      "metadata": {
        "id": "FsVqYeGupAGI"
      },
      "source": [
        "Вычислите, какое получилось сжатие"
      ]
    },
    {
      "cell_type": "code",
      "execution_count": null,
      "metadata": {
        "id": "b9uqJCzHpAGI",
        "colab": {
          "base_uri": "https://localhost:8080/"
        },
        "outputId": "29d77018-8ad9-4ab7-d207-cb72d6ed5162"
      },
      "outputs": [
        {
          "output_type": "stream",
          "name": "stdout",
          "text": [
            "Compression(%):  180.43654001616815\n"
          ]
        }
      ],
      "source": [
        "print(\"Compression(%): \",len(textSample.encode('utf-8'))*8/len(encText)*100)"
      ]
    },
    {
      "cell_type": "markdown",
      "metadata": {
        "id": "vXaMGo_GpAGI"
      },
      "source": [
        "Поздравляем, вы сделали простой алгоритм сжатия) .... если у вас больше 100%"
      ]
    },
    {
      "cell_type": "markdown",
      "metadata": {
        "id": "ZXdhdFjtpAGI"
      },
      "source": [
        "### Исследуем, как хорошо себя ведёт код при смене текста\n",
        "\n",
        "Сравните написанный кодер на двух понравившихся вам текстах на разные темы (возьмите по масштабу что-то похожее на страницу МО).\n",
        "\n",
        "1. Для чистоты эксперимента очистите оба текста от символов, которых нет в другом тексте\n",
        "2. Посчитайте таблицу частот для каждого из текстов\n",
        "3. Обучите кодер на тексте 1\n",
        "4. Обучите кодер на тексте 2\n",
        "5. Сопоставьте длину (в битах):\n",
        "   1. Текст1, закодированный кодером 1\n",
        "   2. Текст2, закодированный кодером 1\n",
        "   3. Текст1, закодированный кодером 2\n",
        "   4. Текст2, закодированный кодером 2\n",
        "6. Посчитайте KL-дивергенцию и кроссэнтропию в обе стороны между частотами кодера1 и кодера2\n",
        "\n",
        "Прокомментируйте результат.\n",
        "\n",
        "Не забудьте приложить к решению ваших два текстовых файла."
      ]
    },
    {
      "cell_type": "code",
      "execution_count": null,
      "metadata": {
        "id": "Z_OEK15WpAGI"
      },
      "outputs": [],
      "source": [
        "with open(\"text1.txt\",\"r\", encoding=\"utf-8\") as f:\n",
        "    text1 = \"\\n\".join(f.readlines())\n",
        "with open(\"text2.txt\",\"r\", encoding=\"utf-8\") as f:\n",
        "    text2 = \"\\n\".join(f.readlines())"
      ]
    },
    {
      "cell_type": "code",
      "execution_count": null,
      "metadata": {
        "id": "nCvi3pldpAGJ"
      },
      "outputs": [],
      "source": [
        "common_chars = set(text1) & set(text2)\n",
        "text1 = ''.join([c for c in text1 if c in common_chars])\n",
        "text2 = ''.join([c for c in text2 if c in common_chars])"
      ]
    },
    {
      "cell_type": "code",
      "source": [
        "freq1 = compute_frequencies(text1)\n",
        "freq2 = compute_frequencies(text2)"
      ],
      "metadata": {
        "id": "d99BN2s9z2Vc"
      },
      "execution_count": null,
      "outputs": []
    },
    {
      "cell_type": "code",
      "source": [
        "coder1 = HuffmanCoderDecoder(freq1)\n",
        "coder2 = HuffmanCoderDecoder(freq2)"
      ],
      "metadata": {
        "id": "FJm3oNe91DeY"
      },
      "execution_count": null,
      "outputs": []
    },
    {
      "cell_type": "code",
      "source": [
        "text1_coder1 = len(coder1.encode(text1))\n",
        "text2_coder1 = len(coder1.encode(text2))\n",
        "text1_coder2 = len(coder2.encode(text1))\n",
        "text2_coder2 = len(coder2.encode(text2))"
      ],
      "metadata": {
        "id": "NOdobKfs1d6l"
      },
      "execution_count": null,
      "outputs": []
    },
    {
      "cell_type": "code",
      "source": [
        "def cross_entropy(freq_w, freq_p):\n",
        "    return -sum(freq_w[c] * math.log2(freq_p[c]) for c in freq_w.keys())\n",
        "\n",
        "def kl_divergence(freq_w, freq_p):\n",
        "    return -sum(freq_w[c] * math.log2(freq_p[c] / freq_w[c]) for c in freq_w.keys())"
      ],
      "metadata": {
        "id": "BK5rPOhA9psJ"
      },
      "execution_count": null,
      "outputs": []
    },
    {
      "cell_type": "code",
      "source": [
        "kl_text1_text2 = kl_divergence(freq1, freq2)\n",
        "kl_text2_text1 = kl_divergence(freq2, freq1)\n",
        "ce_text1_text2 = cross_entropy(freq1, freq1)\n",
        "ce_text2_text1 = cross_entropy(freq2, freq2)\n",
        "H_text1 = ce_text1_text2 - kl_text1_text2\n",
        "H_text2 = ce_text2_text1 - kl_text2_text1"
      ],
      "metadata": {
        "id": "D9vkiTo0-7Si"
      },
      "execution_count": null,
      "outputs": []
    },
    {
      "cell_type": "code",
      "execution_count": null,
      "metadata": {
        "id": "PZ813f55pAGJ",
        "colab": {
          "base_uri": "https://localhost:8080/"
        },
        "outputId": "0eaccbfb-2725-46dc-a6bd-3b784e119dc4"
      },
      "outputs": [
        {
          "output_type": "stream",
          "name": "stdout",
          "text": [
            "KL(text1 | text2)=0.056794669312650974\n",
            "KL(text2 | text1)=0.05047753326994205\n",
            "CE(text1 | text2)=4.618814388429162\n",
            "CE(text2 | text1)=4.534943593022008\n",
            "H(text1)=4.5620197191165115\n",
            "H(text2)=4.484466059752066\n"
          ]
        }
      ],
      "source": [
        "print( f\"KL(text1 | text2)={kl_text1_text2}\" )\n",
        "print( f\"KL(text2 | text1)={kl_text2_text1}\" )\n",
        "print( f\"CE(text1 | text2)={ce_text1_text2}\" )\n",
        "print( f\"CE(text2 | text1)={ce_text2_text1}\" )\n",
        "print( f\"H(text1)={H_text1}\" )\n",
        "print( f\"H(text2)={H_text2}\" )"
      ]
    },
    {
      "cell_type": "code",
      "execution_count": null,
      "metadata": {
        "id": "icWxiSvQpAGJ",
        "colab": {
          "base_uri": "https://localhost:8080/"
        },
        "outputId": "a703618d-1022-4b9f-b67d-091c4cf56857"
      },
      "outputs": [
        {
          "output_type": "stream",
          "name": "stdout",
          "text": [
            "Coding with text1: text1Len=60723, text2Len=64258\n",
            "Coding with text2: text1Len=61273, text2Len=63550\n"
          ]
        }
      ],
      "source": [
        "print(f\"Coding with text1: text1Len={text1_coder1}, text2Len={text2_coder1}\")\n",
        "print(f\"Coding with text2: text1Len={text1_coder2}, text2Len={text2_coder2}\")"
      ]
    },
    {
      "cell_type": "markdown",
      "source": [
        "Длина увеличивается, если кодировать текст кодером, основанном на другом тексте, но незначительно."
      ],
      "metadata": {
        "id": "CnjlwL-lvFtl"
      }
    },
    {
      "cell_type": "code",
      "execution_count": null,
      "metadata": {
        "id": "5IFhi6jipAGJ"
      },
      "outputs": [],
      "source": [
        "#ADD A CHART like https://matplotlib.org/stable/gallery/lines_bars_and_markers/barchart.html\n",
        "#and draw distributions of text1 and text2\n",
        "#f, ax = plt.subplots\n",
        "#...."
      ]
    },
    {
      "cell_type": "code",
      "source": [
        "symbols = sorted(freq1.keys())\n",
        "values1 = [freq1.get(symbol, 0) for symbol in symbols]\n",
        "values2 = [freq2.get(symbol, 0) for symbol in symbols]\n",
        "fig, ax = plt.subplots(figsize=(17, 8))\n",
        "\n",
        "index = np.arange(len(symbols))\n",
        "bar_width = 0.4\n",
        "\n",
        "bars1 = ax.bar(index, values1, bar_width, label='Text 1', color='blue', alpha=0.7)\n",
        "bars2 = ax.bar(index + bar_width, values2, bar_width, label='Text 2', color='orange', alpha=0.7)\n",
        "\n",
        "ax.set_xlabel('Symbols')\n",
        "ax.set_ylabel('Frequency')\n",
        "ax.set_title('Symbol frequency distribution in Text 1 and Text 2')\n",
        "ax.set_xticks(index + bar_width / 2)\n",
        "ax.set_xticklabels(symbols)\n",
        "ax.legend()\n",
        "plt.show()"
      ],
      "metadata": {
        "colab": {
          "base_uri": "https://localhost:8080/",
          "height": 734
        },
        "id": "eVFiiI7Di_C9",
        "outputId": "ea1e92cd-f651-47d8-a7db-650e97ef50c1"
      },
      "execution_count": null,
      "outputs": [
        {
          "output_type": "display_data",
          "data": {
            "text/plain": [
              "<Figure size 1700x800 with 1 Axes>"
            ],
            "image/png": "[encoded data removed]"
          },
          "metadata": {}
        }
      ]
    },
    {
      "cell_type": "markdown",
      "source": [
        "Значения энтропии (то есть средняя длина слова при оптимальном кодировании) для двух текстов практически совпадает, обе KL-дивергенции малы и равны примерно 0.05, также распределние частот для символов отличается лишь незначительно. Данные два текста очень похожи, несмотря на то, что написаны на разные темы, разными людьми, что логично, ведь мы всё-таки использовали достаточно объемные тексты на одном языке (которые не были написаны каким-то специальным образом, например, чтобы в тексте очень часто встречалась буква а). Всё это говорит о том, что мы можем создать один кодер (на основе одного из текстов) и использовать его для кодирования других текстов, так мы не сильно увеличим среднюю длину слова."
      ],
      "metadata": {
        "id": "yfqXPEvsnrw3"
      }
    }
  ],
  "metadata": {
    "colab": {
      "provenance": []
    },
    "kernelspec": {
      "display_name": "Python 3 (ipykernel)",
      "language": "python",
      "name": "python3"
    },
    "language_info": {
      "codemirror_mode": {
        "name": "ipython",
        "version": 3
      },
      "file_extension": ".py",
      "mimetype": "text/x-python",
      "name": "python",
      "nbconvert_exporter": "python",
      "pygments_lexer": "ipython3",
      "version": "3.10.14"
    }
  },
  "nbformat": 4,
  "nbformat_minor": 0
}